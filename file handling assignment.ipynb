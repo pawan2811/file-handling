{
 "cells": [
  {
   "cell_type": "code",
   "execution_count": 3,
   "id": "7b7e16f2-e46d-4d6b-a48a-1ffeb380cae1",
   "metadata": {},
   "outputs": [],
   "source": [
    "# 1. Discuss the scenarios where multithreading is preferable to multiprocessing and scenarios where multiprocessing is a better choice."
   ]
  },
  {
   "cell_type": "raw",
   "id": "3f6136f2-f2fe-4856-a96d-806746a44fc8",
   "metadata": {},
   "source": [
    "Use multithreading for I/O-bound tasks, lightweight tasks, or real-time applications where tasks need to share data efficiently and memory usage should be minimized.\n",
    "Use multiprocessing for CPU-bound tasks, or when you need to fully utilize multiple CPU cores, require process isolation, or need to avoid Python’s GIL for true parallelism."
   ]
  },
  {
   "cell_type": "code",
   "execution_count": 4,
   "id": "0ee75602-b728-4124-b5de-ce0644afc6d9",
   "metadata": {},
   "outputs": [],
   "source": [
    "# 2. Describe what a process pool is and how it helps in managing multiple processes efficiently"
   ]
  },
  {
   "cell_type": "markdown",
   "id": "1e34ccab-0536-4f8d-bcac-1c7ccfe07688",
   "metadata": {},
   "source": [
    "A process pool provides an efficient way to manage and control multiple worker processes in parallel. It reduces the overhead of creating and destroying processes, allows for the execution of CPU-bound tasks across multiple cores, and simplifies the management of concurrency."
   ]
  },
  {
   "cell_type": "code",
   "execution_count": 5,
   "id": "99a65b74-5874-477e-b26a-30b4c1f04c51",
   "metadata": {},
   "outputs": [
    {
     "name": "stdout",
     "output_type": "stream",
     "text": [
      "[1, 4, 9, 16, 25, 36]\n"
     ]
    }
   ],
   "source": [
    "import multiprocessing\n",
    "import time\n",
    "\n",
    "def sqr_cal(x):\n",
    "    r = x*x\n",
    "    return r\n",
    "\n",
    "with multiprocessing.Pool() as pool:\n",
    "    result = pool.map(sqr_cal,[1,2,3,4,5,6])\n",
    "\n",
    "print(result)"
   ]
  },
  {
   "cell_type": "code",
   "execution_count": 6,
   "id": "aa262adf-52a9-44c6-bf62-9095b2044ed8",
   "metadata": {},
   "outputs": [],
   "source": [
    "# 3. Explain what multiprocessing is and why it is used in Python programs."
   ]
  },
  {
   "cell_type": "markdown",
   "id": "15929ccf-a8a6-4ba4-818a-894df21f3a0b",
   "metadata": {},
   "source": [
    "Multiprocessing in Python allows multiple processes to run in parallel, utilizing multiple CPU cores for improved performance.\n",
    "It is especially useful for CPU-bound tasks where computation speed is crucial.\n",
    "By creating separate processes with isolated memory, multiprocessing allows true parallelism, bypassing Python’s GIL limitation that affects multithreading."
   ]
  },
  {
   "cell_type": "code",
   "execution_count": 7,
   "id": "aa9fc4b7-6102-492e-b451-62e1311df552",
   "metadata": {},
   "outputs": [],
   "source": [
    "# 4. Write a Python program using multithreading where one thread adds numbers to a list, and anotherthread removes numbers from the list. Implement a mechanism to avoid race conditions using\n",
    "# threading.Lock."
   ]
  },
  {
   "cell_type": "code",
   "execution_count": 16,
   "id": "dea43f4b-acab-469e-8e50-572ef801b8ae",
   "metadata": {},
   "outputs": [
    {
     "name": "stdout",
     "output_type": "stream",
     "text": [
      "data added 1\n",
      "the elemnt removed is 1\n",
      "data added 2\n",
      "data added 3\n",
      "the elemnt removed is 2\n",
      "data added 4\n",
      "the elemnt removed is 3\n",
      "data added 5\n",
      "data added 6\n",
      "the elemnt removed is 4\n",
      "data added 7\n",
      "the elemnt removed is 5\n",
      "the elemnt removed is 6\n",
      "the elemnt removed is 7\n"
     ]
    }
   ],
   "source": [
    "import threading\n",
    "import time\n",
    "\n",
    "shared_list = []\n",
    "lock_list = threading.Lock()\n",
    "def add_list():\n",
    "    for i in range(1,8):\n",
    "        time.sleep(1)\n",
    "        with lock_list:\n",
    "            shared_list.append(i)\n",
    "            print(f\"data added {i}\")\n",
    "            \n",
    "            \n",
    "def remove_list():\n",
    "    for i in range(1,8):\n",
    "        time.sleep(1.5)\n",
    "        with lock_list:\n",
    "            if shared_list:\n",
    "                remove = shared_list.pop(0)\n",
    "                print(f\"the elemnt removed is {remove}\")\n",
    "            else:\n",
    "                print(\"no item to remove\")\n",
    "                \n",
    "t1 = threading.Thread(target = add_list)\n",
    "t2 = threading.Thread(target = remove_list)\n",
    "\n",
    "t1.start()\n",
    "t2.start()\n",
    "\n",
    "t1.join()\n",
    "t2.join()\n",
    "\n",
    "    "
   ]
  },
  {
   "cell_type": "code",
   "execution_count": 2,
   "id": "7ef02be0-ec28-485c-852a-c30e0b2645d1",
   "metadata": {},
   "outputs": [],
   "source": [
    "#5  Describe the methods and tools available in Python for safely sharing data between threads andprocesses."
   ]
  },
  {
   "cell_type": "raw",
   "id": "731e8197-70f1-40af-bd5e-e5e82f954610",
   "metadata": {},
   "source": [
    "threading.Lock()\tEnsures only one thread accesses shared data.\n",
    "threading.RLock()\tAllows reentrant locks by the same thread.\n",
    "threading.Condition()\tManages waiting for conditions between threads.\n",
    "threading.Semaphore()\tControls how many threads access shared resources.\n",
    "queue.Queue()\tThread-safe queue for communication."
   ]
  },
  {
   "cell_type": "code",
   "execution_count": 3,
   "id": "3f55dc6c-af84-43d2-aa61-ccc161aa20a0",
   "metadata": {},
   "outputs": [],
   "source": [
    "# 6. Discuss why it’s crucial to handle exceptions in concurrent programs and the techniques available for doing so."
   ]
  },
  {
   "cell_type": "raw",
   "id": "ef758949-f381-412a-97f5-01c73803cabe",
   "metadata": {},
   "source": [
    "Handling exceptions in concurrent programs is vital to ensure that errors don’t go unnoticed, resources are managed properly, and shared data remains consistent."
   ]
  },
  {
   "cell_type": "code",
   "execution_count": 10,
   "id": "cd1fc3c6-0dff-4fd2-a5ef-e471dcbcdf34",
   "metadata": {},
   "outputs": [],
   "source": [
    "import multiprocessing\n",
    "import time\n",
    "\n",
    "def example():\n",
    "    try:\n",
    "        0/10\n",
    "    except ZeroDivisionError as e:\n",
    "        print(\"this is an error of\",e)\n",
    "        print(\"the solve error\",10/1)\n",
    "        \n",
    "        \n",
    "t = multiprocessing.Process(target = example)\n",
    "t.start()\n",
    "t.join()\n",
    "\n"
   ]
  },
  {
   "cell_type": "code",
   "execution_count": 1,
   "id": "c007716b-585b-41bb-a421-c14c795a7df3",
   "metadata": {},
   "outputs": [],
   "source": [
    "#7  Create a program that uses a thread pool to calculate the factorial of numbers from 1 to 10 concurrently.Use concurrent.futures.ThreadPoolExecutor to manage the threads."
   ]
  },
  {
   "cell_type": "code",
   "execution_count": 4,
   "id": "084696e4-28b8-4c2c-86ba-39bcb74a2c27",
   "metadata": {},
   "outputs": [
    {
     "name": "stdout",
     "output_type": "stream",
     "text": [
      "[1, 2, 6, 24, 120, 720, 5040, 40320, 362880]\n"
     ]
    }
   ],
   "source": [
    "import math\n",
    "import concurrent.futures\n",
    "\n",
    "def factorial(n):\n",
    "    r = math.factorial(n)\n",
    "    return r\n",
    "lis = list(range(1,10))\n",
    "with concurrent.futures.ThreadPoolExecutor() as executor:\n",
    "    result = list(executor.map(factorial,lis))\n",
    "    \n",
    "print(result)"
   ]
  },
  {
   "cell_type": "markdown",
   "id": "e4764708-2fed-48b3-bf3d-d15b5c61779c",
   "metadata": {},
   "source": [
    "8. Create a Python program that uses multiprocessing.Pool to compute the square of numbers from 1 to 10 in\n",
    "parallel. Measure the time taken to perform this computation using a pool of different sizes (e.g., 2, 4, 8\n",
    "processes)."
   ]
  },
  {
   "cell_type": "code",
   "execution_count": 11,
   "id": "e47e7a5d-e896-4c2e-97e1-e5636a1bf04d",
   "metadata": {},
   "outputs": [
    {
     "name": "stdout",
     "output_type": "stream",
     "text": [
      "Time taken in processes = 2, 0.03, result is [1, 4, 9, 16, 25, 36, 49, 64, 81]\n",
      "Time taken in processes = 4, 0.04, result is [1, 4, 9, 16, 25, 36, 49, 64, 81]\n",
      "Time taken in processes = 8, 0.07, result is [1, 4, 9, 16, 25, 36, 49, 64, 81]\n"
     ]
    }
   ],
   "source": [
    "import multiprocessing\n",
    "import time\n",
    "\n",
    "def square(n):\n",
    "    r = n*n\n",
    "    return r\n",
    "\n",
    "lis = list(range(1,10))\n",
    "s1 = time.perf_counter()\n",
    "with multiprocessing.Pool(processes = 2) as pool:\n",
    "    result1= pool.map(square,lis)\n",
    "e1 = time.perf_counter()\n",
    "\n",
    "s2 = time.perf_counter()\n",
    "with multiprocessing.Pool(processes = 4) as pool:\n",
    "    result2 = pool.map(square,lis)\n",
    "e2 = time.perf_counter()\n",
    "\n",
    "s3 = time.perf_counter()\n",
    "with multiprocessing.Pool(processes = 8) as pool:\n",
    "    result3 = pool.map(square,lis)\n",
    "e3 = time.perf_counter()\n",
    "\n",
    "print(f\"Time taken in processes = 2, {round(e1 - s1,2)}, result is {result1}\")\n",
    "print(f\"Time taken in processes = 4, {round(e2 - s2,2)}, result is {result2}\")\n",
    "print(f\"Time taken in processes = 8, {round(e3 - s3,2)}, result is {result3}\")\n",
    "    \n",
    "    "
   ]
  },
  {
   "cell_type": "code",
   "execution_count": null,
   "id": "7eb5af0b-2447-42f3-850c-d57cf49b4567",
   "metadata": {},
   "outputs": [],
   "source": []
  },
  {
   "cell_type": "code",
   "execution_count": null,
   "id": "52bac8b4-bc94-4806-8662-cb8a106e9d9b",
   "metadata": {},
   "outputs": [],
   "source": []
  }
 ],
 "metadata": {
  "kernelspec": {
   "display_name": "Python 3 (ipykernel)",
   "language": "python",
   "name": "python3"
  },
  "language_info": {
   "codemirror_mode": {
    "name": "ipython",
    "version": 3
   },
   "file_extension": ".py",
   "mimetype": "text/x-python",
   "name": "python",
   "nbconvert_exporter": "python",
   "pygments_lexer": "ipython3",
   "version": "3.10.8"
  }
 },
 "nbformat": 4,
 "nbformat_minor": 5
}
